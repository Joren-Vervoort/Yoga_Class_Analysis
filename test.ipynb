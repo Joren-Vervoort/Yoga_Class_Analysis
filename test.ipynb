{
 "metadata": {
  "language_info": {
   "codemirror_mode": {
    "name": "ipython",
    "version": 3
   },
   "file_extension": ".py",
   "mimetype": "text/x-python",
   "name": "python",
   "nbconvert_exporter": "python",
   "pygments_lexer": "ipython3",
   "version": "3.9.4"
  },
  "orig_nbformat": 2,
  "kernelspec": {
   "name": "python394jvsc74a57bd0dd2a2d0d70048b397b8477c24f90809361c0777c4a38576b9bcfafceec1fe96a",
   "display_name": "Python 3.9.4 64-bit ('Yogalive': conda)"
  }
 },
 "nbformat": 4,
 "nbformat_minor": 2,
 "cells": [
  {
   "cell_type": "code",
   "execution_count": 1,
   "metadata": {},
   "outputs": [
    {
     "output_type": "execute_result",
     "data": {
      "text/plain": [
       "   Unnamed: 0  ... LeftKnee_CenterHips_RightKnee\n",
       "0           0  ...                     52.268854\n",
       "1           1  ...                     54.870945\n",
       "2           2  ...                     82.554345\n",
       "3           3  ...                     57.092557\n",
       "4           4  ...                     65.005271\n",
       "\n",
       "[5 rows x 20 columns]"
      ],
      "text/html": "<div>\n<style scoped>\n    .dataframe tbody tr th:only-of-type {\n        vertical-align: middle;\n    }\n\n    .dataframe tbody tr th {\n        vertical-align: top;\n    }\n\n    .dataframe thead th {\n        text-align: right;\n    }\n</style>\n<table border=\"1\" class=\"dataframe\">\n  <thead>\n    <tr style=\"text-align: right;\">\n      <th></th>\n      <th>Unnamed: 0</th>\n      <th>name_en</th>\n      <th>name_sa</th>\n      <th>Nose_CenterShoulders_CenterHips</th>\n      <th>LeftHip_LeftShoulder_LeftElbow</th>\n      <th>RightHip_RightShoulder_RightElbow</th>\n      <th>LeftShoulder_LeftElbow_LeftWrist</th>\n      <th>RightShoulder_RightElbow_RightWrist</th>\n      <th>LeftShoulder_CenterShoulders_Nose</th>\n      <th>RightShoulder_CenterShoulders_Nose</th>\n      <th>LeftIndex1_LeftWrist_LeftElbow</th>\n      <th>RightIndex1_RightWrist_RightElbow</th>\n      <th>LeftShoulder_LeftHip_LeftKnee</th>\n      <th>RightShoulder_RightHip_RightKnee</th>\n      <th>LeftHip_LeftKnee_LeftAnkle</th>\n      <th>RightHip_RightKnee_RightAnkle</th>\n      <th>LeftKnee_LeftAnkle_LeftFootIndex</th>\n      <th>RightKnee_RightAnkle_RightFootIndex</th>\n      <th>LeftElbow_CenterShoulders_RightElbow</th>\n      <th>LeftKnee_CenterHips_RightKnee</th>\n    </tr>\n  </thead>\n  <tbody>\n    <tr>\n      <th>0</th>\n      <td>0</td>\n      <td>Downward-facing Dog</td>\n      <td>Adho mukha svanasana</td>\n      <td>142.967719</td>\n      <td>119.117132</td>\n      <td>164.504575</td>\n      <td>96.510889</td>\n      <td>142.512848</td>\n      <td>100.786609</td>\n      <td>79.213391</td>\n      <td>163.550809</td>\n      <td>127.277391</td>\n      <td>70.301185</td>\n      <td>78.760558</td>\n      <td>162.330055</td>\n      <td>170.658061</td>\n      <td>89.571042</td>\n      <td>90.426069</td>\n      <td>125.485441</td>\n      <td>52.268854</td>\n    </tr>\n    <tr>\n      <th>1</th>\n      <td>1</td>\n      <td>Downward-facing Dog</td>\n      <td>Adho mukha svanasana</td>\n      <td>141.873788</td>\n      <td>133.737639</td>\n      <td>156.148648</td>\n      <td>86.193412</td>\n      <td>126.056423</td>\n      <td>102.059246</td>\n      <td>77.940754</td>\n      <td>166.997722</td>\n      <td>121.210016</td>\n      <td>64.548047</td>\n      <td>72.271340</td>\n      <td>162.458292</td>\n      <td>171.447052</td>\n      <td>88.587455</td>\n      <td>87.456586</td>\n      <td>127.105493</td>\n      <td>54.870945</td>\n    </tr>\n    <tr>\n      <th>2</th>\n      <td>2</td>\n      <td>Downward-facing Dog</td>\n      <td>Adho mukha svanasana</td>\n      <td>132.696054</td>\n      <td>110.411097</td>\n      <td>159.309037</td>\n      <td>97.229855</td>\n      <td>148.486080</td>\n      <td>101.027111</td>\n      <td>78.972889</td>\n      <td>152.085044</td>\n      <td>129.648544</td>\n      <td>70.848548</td>\n      <td>59.784400</td>\n      <td>165.166593</td>\n      <td>166.568182</td>\n      <td>97.797913</td>\n      <td>109.398939</td>\n      <td>133.670534</td>\n      <td>82.554345</td>\n    </tr>\n    <tr>\n      <th>3</th>\n      <td>3</td>\n      <td>Downward-facing Dog</td>\n      <td>Adho mukha svanasana</td>\n      <td>138.183459</td>\n      <td>140.248950</td>\n      <td>148.996409</td>\n      <td>89.582346</td>\n      <td>135.861549</td>\n      <td>98.949181</td>\n      <td>81.050819</td>\n      <td>164.665515</td>\n      <td>126.228936</td>\n      <td>53.862495</td>\n      <td>60.517426</td>\n      <td>162.242956</td>\n      <td>171.838952</td>\n      <td>92.318959</td>\n      <td>92.662635</td>\n      <td>127.273869</td>\n      <td>57.092557</td>\n    </tr>\n    <tr>\n      <th>4</th>\n      <td>4</td>\n      <td>Downward-facing Dog</td>\n      <td>Adho mukha svanasana</td>\n      <td>130.779564</td>\n      <td>127.402196</td>\n      <td>163.231193</td>\n      <td>87.911601</td>\n      <td>136.848360</td>\n      <td>103.781597</td>\n      <td>76.218403</td>\n      <td>165.989157</td>\n      <td>119.908360</td>\n      <td>64.525992</td>\n      <td>66.857351</td>\n      <td>145.639487</td>\n      <td>170.028814</td>\n      <td>88.383863</td>\n      <td>90.652891</td>\n      <td>123.356263</td>\n      <td>65.005271</td>\n    </tr>\n  </tbody>\n</table>\n</div>"
     },
     "metadata": {},
     "execution_count": 1
    }
   ],
   "source": [
    "import pandas as pd\n",
    "df = pd.read_csv(\"output.csv\")\n",
    "df.head()"
   ]
  },
  {
   "cell_type": "code",
   "execution_count": 4,
   "metadata": {},
   "outputs": [],
   "source": [
    "df = df.dropna()"
   ]
  },
  {
   "cell_type": "code",
   "execution_count": 7,
   "metadata": {},
   "outputs": [
    {
     "output_type": "execute_result",
     "data": {
      "text/plain": [
       "       Unnamed: 0  ...  LeftKnee_CenterHips_RightKnee\n",
       "count   46.000000  ...                      46.000000\n",
       "mean    22.500000  ...                      57.838113\n",
       "std     13.422618  ...                       7.174184\n",
       "min      0.000000  ...                      37.672555\n",
       "25%     11.250000  ...                      54.093426\n",
       "50%     22.500000  ...                      56.505006\n",
       "75%     33.750000  ...                      61.635305\n",
       "max     45.000000  ...                      82.554345\n",
       "\n",
       "[8 rows x 18 columns]"
      ],
      "text/html": "<div>\n<style scoped>\n    .dataframe tbody tr th:only-of-type {\n        vertical-align: middle;\n    }\n\n    .dataframe tbody tr th {\n        vertical-align: top;\n    }\n\n    .dataframe thead th {\n        text-align: right;\n    }\n</style>\n<table border=\"1\" class=\"dataframe\">\n  <thead>\n    <tr style=\"text-align: right;\">\n      <th></th>\n      <th>Unnamed: 0</th>\n      <th>Nose_CenterShoulders_CenterHips</th>\n      <th>LeftHip_LeftShoulder_LeftElbow</th>\n      <th>RightHip_RightShoulder_RightElbow</th>\n      <th>LeftShoulder_LeftElbow_LeftWrist</th>\n      <th>RightShoulder_RightElbow_RightWrist</th>\n      <th>LeftShoulder_CenterShoulders_Nose</th>\n      <th>RightShoulder_CenterShoulders_Nose</th>\n      <th>LeftIndex1_LeftWrist_LeftElbow</th>\n      <th>RightIndex1_RightWrist_RightElbow</th>\n      <th>LeftShoulder_LeftHip_LeftKnee</th>\n      <th>RightShoulder_RightHip_RightKnee</th>\n      <th>LeftHip_LeftKnee_LeftAnkle</th>\n      <th>RightHip_RightKnee_RightAnkle</th>\n      <th>LeftKnee_LeftAnkle_LeftFootIndex</th>\n      <th>RightKnee_RightAnkle_RightFootIndex</th>\n      <th>LeftElbow_CenterShoulders_RightElbow</th>\n      <th>LeftKnee_CenterHips_RightKnee</th>\n    </tr>\n  </thead>\n  <tbody>\n    <tr>\n      <th>count</th>\n      <td>46.000000</td>\n      <td>46.000000</td>\n      <td>46.000000</td>\n      <td>46.000000</td>\n      <td>46.000000</td>\n      <td>46.000000</td>\n      <td>46.000000</td>\n      <td>46.000000</td>\n      <td>46.000000</td>\n      <td>46.000000</td>\n      <td>46.000000</td>\n      <td>46.000000</td>\n      <td>46.000000</td>\n      <td>46.000000</td>\n      <td>46.000000</td>\n      <td>46.000000</td>\n      <td>46.000000</td>\n      <td>46.000000</td>\n    </tr>\n    <tr>\n      <th>mean</th>\n      <td>22.500000</td>\n      <td>152.268915</td>\n      <td>131.731638</td>\n      <td>160.049803</td>\n      <td>96.143903</td>\n      <td>140.685388</td>\n      <td>103.464745</td>\n      <td>76.535255</td>\n      <td>162.364813</td>\n      <td>120.676501</td>\n      <td>63.188693</td>\n      <td>67.827748</td>\n      <td>161.704394</td>\n      <td>167.836094</td>\n      <td>90.886886</td>\n      <td>91.979861</td>\n      <td>125.704275</td>\n      <td>57.838113</td>\n    </tr>\n    <tr>\n      <th>std</th>\n      <td>13.422618</td>\n      <td>13.845840</td>\n      <td>9.344129</td>\n      <td>4.530926</td>\n      <td>5.931988</td>\n      <td>9.006463</td>\n      <td>9.564969</td>\n      <td>9.564969</td>\n      <td>5.029736</td>\n      <td>6.688254</td>\n      <td>9.330229</td>\n      <td>10.006574</td>\n      <td>7.927537</td>\n      <td>11.475420</td>\n      <td>5.640885</td>\n      <td>6.420331</td>\n      <td>2.769701</td>\n      <td>7.174184</td>\n    </tr>\n    <tr>\n      <th>min</th>\n      <td>0.000000</td>\n      <td>130.779564</td>\n      <td>107.854387</td>\n      <td>146.137280</td>\n      <td>84.695023</td>\n      <td>122.286699</td>\n      <td>90.460873</td>\n      <td>29.198720</td>\n      <td>151.359145</td>\n      <td>105.433032</td>\n      <td>50.428055</td>\n      <td>51.203556</td>\n      <td>122.236571</td>\n      <td>102.597972</td>\n      <td>82.366666</td>\n      <td>78.429597</td>\n      <td>120.667018</td>\n      <td>37.672555</td>\n    </tr>\n    <tr>\n      <th>25%</th>\n      <td>11.250000</td>\n      <td>141.088560</td>\n      <td>127.074459</td>\n      <td>158.211656</td>\n      <td>92.982226</td>\n      <td>134.729567</td>\n      <td>98.899050</td>\n      <td>72.914824</td>\n      <td>158.431154</td>\n      <td>115.505078</td>\n      <td>56.549881</td>\n      <td>61.804494</td>\n      <td>159.410078</td>\n      <td>167.136432</td>\n      <td>85.290678</td>\n      <td>88.148103</td>\n      <td>123.529820</td>\n      <td>54.093426</td>\n    </tr>\n    <tr>\n      <th>50%</th>\n      <td>22.500000</td>\n      <td>151.000750</td>\n      <td>131.231696</td>\n      <td>160.981928</td>\n      <td>95.243314</td>\n      <td>141.806135</td>\n      <td>101.864070</td>\n      <td>78.135930</td>\n      <td>162.224822</td>\n      <td>120.318422</td>\n      <td>61.495659</td>\n      <td>66.589166</td>\n      <td>163.239172</td>\n      <td>170.168847</td>\n      <td>89.975115</td>\n      <td>90.836266</td>\n      <td>125.550499</td>\n      <td>56.505006</td>\n    </tr>\n    <tr>\n      <th>75%</th>\n      <td>33.750000</td>\n      <td>165.364427</td>\n      <td>136.797328</td>\n      <td>163.082527</td>\n      <td>98.965608</td>\n      <td>146.926515</td>\n      <td>107.085176</td>\n      <td>81.100950</td>\n      <td>166.789262</td>\n      <td>126.071269</td>\n      <td>66.921290</td>\n      <td>72.091988</td>\n      <td>165.889926</td>\n      <td>173.095549</td>\n      <td>95.447847</td>\n      <td>97.044273</td>\n      <td>127.727709</td>\n      <td>61.635305</td>\n    </tr>\n    <tr>\n      <th>max</th>\n      <td>45.000000</td>\n      <td>174.387301</td>\n      <td>150.917847</td>\n      <td>168.020629</td>\n      <td>116.542988</td>\n      <td>156.189186</td>\n      <td>150.801280</td>\n      <td>89.539127</td>\n      <td>171.101394</td>\n      <td>134.205264</td>\n      <td>103.723465</td>\n      <td>111.496685</td>\n      <td>174.473477</td>\n      <td>177.964782</td>\n      <td>101.319109</td>\n      <td>109.398939</td>\n      <td>133.670534</td>\n      <td>82.554345</td>\n    </tr>\n  </tbody>\n</table>\n</div>"
     },
     "metadata": {},
     "execution_count": 7
    }
   ],
   "source": [
    "down_dog = df[df[\"name_en\"]==\"Downward-facing Dog\"]\n",
    "down_dog.describe()"
   ]
  },
  {
   "cell_type": "code",
   "execution_count": 3,
   "metadata": {},
   "outputs": [
    {
     "output_type": "execute_result",
     "data": {
      "text/plain": [
       "Unnamed: 0                                        66\n",
       "name_en                                 Andrea's Cat\n",
       "name_sa                                          NaN\n",
       "Nose_CenterShoulders_CenterHips                  NaN\n",
       "LeftHip_LeftShoulder_LeftElbow                   NaN\n",
       "RightHip_RightShoulder_RightElbow                NaN\n",
       "LeftShoulder_LeftElbow_LeftWrist                 NaN\n",
       "RightShoulder_RightElbow_RightWrist              NaN\n",
       "LeftShoulder_CenterShoulders_Nose                NaN\n",
       "RightShoulder_CenterShoulders_Nose               NaN\n",
       "LeftIndex1_LeftWrist_LeftElbow                   NaN\n",
       "RightIndex1_RightWrist_RightElbow                NaN\n",
       "LeftShoulder_LeftHip_LeftKnee                    NaN\n",
       "RightShoulder_RightHip_RightKnee                 NaN\n",
       "LeftHip_LeftKnee_LeftAnkle                       NaN\n",
       "RightHip_RightKnee_RightAnkle                    NaN\n",
       "LeftKnee_LeftAnkle_LeftFootIndex                 NaN\n",
       "RightKnee_RightAnkle_RightFootIndex              NaN\n",
       "LeftElbow_CenterShoulders_RightElbow             NaN\n",
       "LeftKnee_CenterHips_RightKnee                    NaN\n",
       "Name: 66, dtype: object"
      ]
     },
     "metadata": {},
     "execution_count": 3
    }
   ],
   "source": [
    "df[df[\"name_en\"]==\"Downward-facing Dog\"]"
   ]
  },
  {
   "cell_type": "code",
   "execution_count": null,
   "metadata": {},
   "outputs": [],
   "source": []
  }
 ]
}