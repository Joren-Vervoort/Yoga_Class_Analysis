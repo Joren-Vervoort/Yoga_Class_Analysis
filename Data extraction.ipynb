{
 "cells": [
  {
   "cell_type": "markdown",
   "metadata": {},
   "source": [
    "# Extracting the training data"
   ]
  },
  {
   "cell_type": "code",
   "execution_count": 5,
   "metadata": {},
   "outputs": [],
   "source": [
    "import pandas as pd\n",
    "import mediapipe as mp\n",
    "import cv2\n",
    "from pathlib import Path"
   ]
  },
  {
   "cell_type": "code",
   "execution_count": 33,
   "metadata": {},
   "outputs": [
    {
     "name": "stdout",
     "output_type": "stream",
     "text": [
      "The autoreload extension is already loaded. To reload it, use:\n",
      "  %reload_ext autoreload\n"
     ]
    }
   ],
   "source": [
    "# Autoreload when script is changed\n",
    "%load_ext autoreload\n",
    "%autoreload 2"
   ]
  },
  {
   "cell_type": "markdown",
   "metadata": {},
   "source": [
    "## Single image\n",
    "All steps to take on each image."
   ]
  },
  {
   "cell_type": "code",
   "execution_count": 36,
   "metadata": {},
   "outputs": [],
   "source": [
    "from preprocessing import load_image, normalize_body, extract_features"
   ]
  },
  {
   "cell_type": "code",
   "execution_count": 12,
   "metadata": {},
   "outputs": [],
   "source": [
    "results=load_image(\"DATA/training data/training frames/Adho mukha svanasana - Downward-facing Dog/out1891.png\")"
   ]
  },
  {
   "cell_type": "code",
   "execution_count": 18,
   "metadata": {},
   "outputs": [
    {
     "data": {
      "text/plain": [
       "mediapipe.framework.formats.landmark_pb2.NormalizedLandmarkList"
      ]
     },
     "execution_count": 18,
     "metadata": {},
     "output_type": "execute_result"
    }
   ],
   "source": [
    "type(results.pose_landmarks)"
   ]
  },
  {
   "cell_type": "markdown",
   "metadata": {},
   "source": [
    "## Folder"
   ]
  },
  {
   "cell_type": "code",
   "execution_count": 23,
   "metadata": {},
   "outputs": [],
   "source": [
    "data_dir=Path(\"DATA/training data/training frames/\")"
   ]
  },
  {
   "cell_type": "code",
   "execution_count": 55,
   "metadata": {},
   "outputs": [
    {
     "data": {
      "text/html": [
       "<div>\n",
       "<style scoped>\n",
       "    .dataframe tbody tr th:only-of-type {\n",
       "        vertical-align: middle;\n",
       "    }\n",
       "\n",
       "    .dataframe tbody tr th {\n",
       "        vertical-align: top;\n",
       "    }\n",
       "\n",
       "    .dataframe thead th {\n",
       "        text-align: right;\n",
       "    }\n",
       "</style>\n",
       "<table border=\"1\" class=\"dataframe\">\n",
       "  <thead>\n",
       "    <tr style=\"text-align: right;\">\n",
       "      <th></th>\n",
       "      <th>path</th>\n",
       "      <th>name_en</th>\n",
       "      <th>name_sa</th>\n",
       "    </tr>\n",
       "  </thead>\n",
       "  <tbody>\n",
       "    <tr>\n",
       "      <th>0</th>\n",
       "      <td>Ardha Hanumanasana- Half Splits Pose/out2612.png</td>\n",
       "      <td>Half Splits Pose</td>\n",
       "      <td>Ardha Hanumanasana</td>\n",
       "    </tr>\n",
       "    <tr>\n",
       "      <th>1</th>\n",
       "      <td>Ardha Hanumanasana- Half Splits Pose/out2585.png</td>\n",
       "      <td>Half Splits Pose</td>\n",
       "      <td>Ardha Hanumanasana</td>\n",
       "    </tr>\n",
       "    <tr>\n",
       "      <th>2</th>\n",
       "      <td>Ardha Hanumanasana- Half Splits Pose/out2611.png</td>\n",
       "      <td>Half Splits Pose</td>\n",
       "      <td>Ardha Hanumanasana</td>\n",
       "    </tr>\n",
       "    <tr>\n",
       "      <th>3</th>\n",
       "      <td>Ardha Hanumanasana- Half Splits Pose/out2983.png</td>\n",
       "      <td>Half Splits Pose</td>\n",
       "      <td>Ardha Hanumanasana</td>\n",
       "    </tr>\n",
       "    <tr>\n",
       "      <th>4</th>\n",
       "      <td>Ardha Hanumanasana- Half Splits Pose/out2604.png</td>\n",
       "      <td>Half Splits Pose</td>\n",
       "      <td>Ardha Hanumanasana</td>\n",
       "    </tr>\n",
       "    <tr>\n",
       "      <th>...</th>\n",
       "      <td>...</td>\n",
       "      <td>...</td>\n",
       "      <td>...</td>\n",
       "    </tr>\n",
       "    <tr>\n",
       "      <th>559</th>\n",
       "      <td>Phalakasana - high plank/out2239.png</td>\n",
       "      <td>high plank</td>\n",
       "      <td>Phalakasana</td>\n",
       "    </tr>\n",
       "    <tr>\n",
       "      <th>560</th>\n",
       "      <td>Phalakasana - high plank/out1421.png</td>\n",
       "      <td>high plank</td>\n",
       "      <td>Phalakasana</td>\n",
       "    </tr>\n",
       "    <tr>\n",
       "      <th>561</th>\n",
       "      <td>Phalakasana - high plank/out1875.png</td>\n",
       "      <td>high plank</td>\n",
       "      <td>Phalakasana</td>\n",
       "    </tr>\n",
       "    <tr>\n",
       "      <th>562</th>\n",
       "      <td>Phalakasana - high plank/out1430.png</td>\n",
       "      <td>high plank</td>\n",
       "      <td>Phalakasana</td>\n",
       "    </tr>\n",
       "    <tr>\n",
       "      <th>563</th>\n",
       "      <td>Phalakasana - high plank/out3218.png</td>\n",
       "      <td>high plank</td>\n",
       "      <td>Phalakasana</td>\n",
       "    </tr>\n",
       "  </tbody>\n",
       "</table>\n",
       "<p>564 rows × 3 columns</p>\n",
       "</div>"
      ],
      "text/plain": [
       "                                                 path            name_en  \\\n",
       "0    Ardha Hanumanasana- Half Splits Pose/out2612.png   Half Splits Pose   \n",
       "1    Ardha Hanumanasana- Half Splits Pose/out2585.png   Half Splits Pose   \n",
       "2    Ardha Hanumanasana- Half Splits Pose/out2611.png   Half Splits Pose   \n",
       "3    Ardha Hanumanasana- Half Splits Pose/out2983.png   Half Splits Pose   \n",
       "4    Ardha Hanumanasana- Half Splits Pose/out2604.png   Half Splits Pose   \n",
       "..                                                ...                ...   \n",
       "559              Phalakasana - high plank/out2239.png         high plank   \n",
       "560              Phalakasana - high plank/out1421.png         high plank   \n",
       "561              Phalakasana - high plank/out1875.png         high plank   \n",
       "562              Phalakasana - high plank/out1430.png         high plank   \n",
       "563              Phalakasana - high plank/out3218.png         high plank   \n",
       "\n",
       "                name_sa  \n",
       "0    Ardha Hanumanasana  \n",
       "1    Ardha Hanumanasana  \n",
       "2    Ardha Hanumanasana  \n",
       "3    Ardha Hanumanasana  \n",
       "4    Ardha Hanumanasana  \n",
       "..                  ...  \n",
       "559         Phalakasana  \n",
       "560         Phalakasana  \n",
       "561         Phalakasana  \n",
       "562         Phalakasana  \n",
       "563         Phalakasana  \n",
       "\n",
       "[564 rows x 3 columns]"
      ]
     },
     "execution_count": 55,
     "metadata": {},
     "output_type": "execute_result"
    }
   ],
   "source": [
    "data=[]\n",
    "for img_file in data_dir.rglob(\"*.png\"):\n",
    "    result = {}\n",
    "    try:\n",
    "#         split by \"-\", remerge english splits\n",
    "        names = img_file.parent.name.split(\"-\")\n",
    "        if len(names)>1:\n",
    "            name_sa=names[0].strip()\n",
    "            name_en='-'.join(names[1:])\n",
    "        else:\n",
    "            name_sa=\"\"\n",
    "            name_en=img_file.parent.name.strip()\n",
    "    except:\n",
    "        continue\n",
    "        \n",
    "    result[\"path\"]=img_file.relative_to(data_dir)\n",
    "    result[\"name_en\"] = name_en\n",
    "    result[\"name_sa\"] = name_sa\n",
    "#     features = extract_features(normalize_body(load_image(str(d.resolve()))))\n",
    "#     result.update(features)\n",
    "    data.append(result)\n",
    "df=pd.DataFrame(data)\n",
    "\n",
    "df"
   ]
  },
  {
   "cell_type": "code",
   "execution_count": null,
   "metadata": {},
   "outputs": [],
   "source": []
  }
 ],
 "metadata": {
  "kernelspec": {
   "display_name": "Python [conda env:yoga]",
   "language": "python",
   "name": "conda-env-yoga-py"
  },
  "language_info": {
   "codemirror_mode": {
    "name": "ipython",
    "version": 3
   },
   "file_extension": ".py",
   "mimetype": "text/x-python",
   "name": "python",
   "nbconvert_exporter": "python",
   "pygments_lexer": "ipython3",
   "version": "3.9.4"
  }
 },
 "nbformat": 4,
 "nbformat_minor": 4
}
