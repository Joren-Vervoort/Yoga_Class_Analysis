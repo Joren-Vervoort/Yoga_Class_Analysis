{
 "cells": [
  {
   "cell_type": "markdown",
   "metadata": {},
   "source": [
    "# Extracting the training data"
   ]
  },
  {
   "cell_type": "code",
   "execution_count": 5,
   "metadata": {},
   "outputs": [],
   "source": [
    "import pandas as pd\n",
    "import mediapipe as mp\n",
    "import cv2\n",
    "from pathlib import Path"
   ]
  },
  {
   "cell_type": "code",
   "execution_count": 33,
   "metadata": {},
   "outputs": [
    {
     "name": "stdout",
     "output_type": "stream",
     "text": [
      "The autoreload extension is already loaded. To reload it, use:\n",
      "  %reload_ext autoreload\n"
     ]
    }
   ],
   "source": [
    "# Autoreload when script is changed\n",
    "%load_ext autoreload\n",
    "%autoreload 2"
   ]
  },
  {
   "cell_type": "markdown",
   "metadata": {},
   "source": [
    "## Single image\n",
    "All steps to take on each image."
   ]
  },
  {
   "cell_type": "code",
   "execution_count": 36,
   "metadata": {},
   "outputs": [],
   "source": [
    "from preprocessing import load_image, normalize_body, extract_features"
   ]
  },
  {
   "cell_type": "code",
   "execution_count": 12,
   "metadata": {},
   "outputs": [],
   "source": [
    "results=load_image(\"DATA/training data/training frames/Adho mukha svanasana - Downward-facing Dog/out1891.png\")"
   ]
  },
  {
   "cell_type": "code",
   "execution_count": 18,
   "metadata": {},
   "outputs": [
    {
     "data": {
      "text/plain": [
       "mediapipe.framework.formats.landmark_pb2.NormalizedLandmarkList"
      ]
     },
     "execution_count": 18,
     "metadata": {},
     "output_type": "execute_result"
    }
   ],
   "source": [
    "type(results.pose_landmarks)"
   ]
  },
  {
   "cell_type": "markdown",
   "metadata": {},
   "source": [
    "## Folder"
   ]
  },
  {
   "cell_type": "code",
   "execution_count": 23,
   "metadata": {},
   "outputs": [],
   "source": [
    "data_dir=Path(\"DATA/training data/training frames/\")"
   ]
  },
  {
   "cell_type": "code",
   "execution_count": 44,
   "metadata": {},
   "outputs": [],
   "source": [
    "data=[]\n",
    "for img_file in data_dir.rglob(\"*.png\"):\n",
    "    result = {}\n",
    "    try:\n",
    "        name_sa, name_en = img_file.parent.name.split(\" - \")\n",
    "    except:\n",
    "        continue\n",
    "    result[\"path\"]=img_file.relative_to(data_dir)\n",
    "    result[\"name_en\"] = name_en.strip()\n",
    "    result[\"name_sa\"] = name_sa.strip()\n",
    "#     features = extract_features(normalize_body(load_image(str(d.resolve()))))\n",
    "#     result.update(features)\n",
    "    data.append(result)\n",
    "df=pd.DataFrame(data)"
   ]
  },
  {
   "cell_type": "code",
   "execution_count": 45,
   "metadata": {},
   "outputs": [
    {
     "data": {
      "text/html": [
       "<div>\n",
       "<style scoped>\n",
       "    .dataframe tbody tr th:only-of-type {\n",
       "        vertical-align: middle;\n",
       "    }\n",
       "\n",
       "    .dataframe tbody tr th {\n",
       "        vertical-align: top;\n",
       "    }\n",
       "\n",
       "    .dataframe thead th {\n",
       "        text-align: right;\n",
       "    }\n",
       "</style>\n",
       "<table border=\"1\" class=\"dataframe\">\n",
       "  <thead>\n",
       "    <tr style=\"text-align: right;\">\n",
       "      <th></th>\n",
       "      <th>path</th>\n",
       "      <th>name_en</th>\n",
       "      <th>name_sa</th>\n",
       "    </tr>\n",
       "  </thead>\n",
       "  <tbody>\n",
       "    <tr>\n",
       "      <th>0</th>\n",
       "      <td>Marjariasana - cat pose/out1103.png</td>\n",
       "      <td>cat pose</td>\n",
       "      <td>Marjariasana</td>\n",
       "    </tr>\n",
       "    <tr>\n",
       "      <th>1</th>\n",
       "      <td>Marjariasana - cat pose/out1095.png</td>\n",
       "      <td>cat pose</td>\n",
       "      <td>Marjariasana</td>\n",
       "    </tr>\n",
       "    <tr>\n",
       "      <th>2</th>\n",
       "      <td>Marjariasana - cat pose/out1094.png</td>\n",
       "      <td>cat pose</td>\n",
       "      <td>Marjariasana</td>\n",
       "    </tr>\n",
       "    <tr>\n",
       "      <th>3</th>\n",
       "      <td>Marjariasana - cat pose/out1102.png</td>\n",
       "      <td>cat pose</td>\n",
       "      <td>Marjariasana</td>\n",
       "    </tr>\n",
       "    <tr>\n",
       "      <th>4</th>\n",
       "      <td>Sukhasana - Easy Pose/out3622.png</td>\n",
       "      <td>Easy Pose</td>\n",
       "      <td>Sukhasana</td>\n",
       "    </tr>\n",
       "    <tr>\n",
       "      <th>...</th>\n",
       "      <td>...</td>\n",
       "      <td>...</td>\n",
       "      <td>...</td>\n",
       "    </tr>\n",
       "    <tr>\n",
       "      <th>410</th>\n",
       "      <td>Phalakasana - high plank/out2239.png</td>\n",
       "      <td>high plank</td>\n",
       "      <td>Phalakasana</td>\n",
       "    </tr>\n",
       "    <tr>\n",
       "      <th>411</th>\n",
       "      <td>Phalakasana - high plank/out1421.png</td>\n",
       "      <td>high plank</td>\n",
       "      <td>Phalakasana</td>\n",
       "    </tr>\n",
       "    <tr>\n",
       "      <th>412</th>\n",
       "      <td>Phalakasana - high plank/out1875.png</td>\n",
       "      <td>high plank</td>\n",
       "      <td>Phalakasana</td>\n",
       "    </tr>\n",
       "    <tr>\n",
       "      <th>413</th>\n",
       "      <td>Phalakasana - high plank/out1430.png</td>\n",
       "      <td>high plank</td>\n",
       "      <td>Phalakasana</td>\n",
       "    </tr>\n",
       "    <tr>\n",
       "      <th>414</th>\n",
       "      <td>Phalakasana - high plank/out3218.png</td>\n",
       "      <td>high plank</td>\n",
       "      <td>Phalakasana</td>\n",
       "    </tr>\n",
       "  </tbody>\n",
       "</table>\n",
       "<p>415 rows × 3 columns</p>\n",
       "</div>"
      ],
      "text/plain": [
       "                                     path     name_en       name_sa\n",
       "0     Marjariasana - cat pose/out1103.png    cat pose  Marjariasana\n",
       "1     Marjariasana - cat pose/out1095.png    cat pose  Marjariasana\n",
       "2     Marjariasana - cat pose/out1094.png    cat pose  Marjariasana\n",
       "3     Marjariasana - cat pose/out1102.png    cat pose  Marjariasana\n",
       "4       Sukhasana - Easy Pose/out3622.png   Easy Pose     Sukhasana\n",
       "..                                    ...         ...           ...\n",
       "410  Phalakasana - high plank/out2239.png  high plank   Phalakasana\n",
       "411  Phalakasana - high plank/out1421.png  high plank   Phalakasana\n",
       "412  Phalakasana - high plank/out1875.png  high plank   Phalakasana\n",
       "413  Phalakasana - high plank/out1430.png  high plank   Phalakasana\n",
       "414  Phalakasana - high plank/out3218.png  high plank   Phalakasana\n",
       "\n",
       "[415 rows x 3 columns]"
      ]
     },
     "execution_count": 45,
     "metadata": {},
     "output_type": "execute_result"
    }
   ],
   "source": [
    "df"
   ]
  },
  {
   "cell_type": "code",
   "execution_count": null,
   "metadata": {},
   "outputs": [],
   "source": []
  }
 ],
 "metadata": {
  "kernelspec": {
   "display_name": "Python [conda env:yoga]",
   "language": "python",
   "name": "conda-env-yoga-py"
  },
  "language_info": {
   "codemirror_mode": {
    "name": "ipython",
    "version": 3
   },
   "file_extension": ".py",
   "mimetype": "text/x-python",
   "name": "python",
   "nbconvert_exporter": "python",
   "pygments_lexer": "ipython3",
   "version": "3.9.4"
  }
 },
 "nbformat": 4,
 "nbformat_minor": 4
}
