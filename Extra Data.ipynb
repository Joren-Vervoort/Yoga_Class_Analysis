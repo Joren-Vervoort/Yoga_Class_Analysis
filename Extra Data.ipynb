{
 "cells": [
  {
   "cell_type": "markdown",
   "metadata": {},
   "source": [
    "# Get extra training data from web search\n"
   ]
  },
  {
   "cell_type": "code",
   "execution_count": 6,
   "metadata": {},
   "outputs": [],
   "source": [
    "from DuckDuckGoImages import download as img_download\n",
    "import pandas as pd\n",
    "from pathlib import Path\n",
    "from os import makedirs"
   ]
  },
  {
   "cell_type": "markdown",
   "metadata": {},
   "source": [
    "Juiste mappen"
   ]
  },
  {
   "cell_type": "code",
   "execution_count": 9,
   "metadata": {},
   "outputs": [],
   "source": [
    "# Here path to traing data folder\n",
    "training_dir=Path(\"DATA/training data/\")\n",
    "\n",
    "# make new dir\n",
    "extra_dir=training_dir / \"extra/\"\n",
    "if not extra_dir.exists(): makedirs(extra_dir)"
   ]
  },
  {
   "cell_type": "markdown",
   "metadata": {},
   "source": [
    "Check how much data is needed."
   ]
  },
  {
   "cell_type": "code",
   "execution_count": 11,
   "metadata": {},
   "outputs": [
    {
     "data": {
      "text/plain": [
       "name_en\n",
       "Easy Pose                125\n",
       "Low Lunge                114\n",
       "Half Splits Pose          98\n",
       "Downward-facing Dog       46\n",
       "Standing Forward Bend     31\n",
       "Andrea's Cat              27\n",
       "Child's pose              23\n",
       "high plank                21\n",
       "Happy Baby's pose         19\n",
       "Upward-Facing Dog         18\n",
       "Cobra Pose                 9\n",
       "cow pose                   5\n",
       "cat pose                   4\n",
       "dtype: int64"
      ]
     },
     "execution_count": 11,
     "metadata": {},
     "output_type": "execute_result"
    }
   ],
   "source": [
    "original_data=pd.read_csv(\"output.csv\")\n",
    "original_data.value_counts(\"name_en\")"
   ]
  },
  {
   "cell_type": "markdown",
   "metadata": {},
   "source": [
    "Let's try to get to at least 100 images per pose."
   ]
  },
  {
   "cell_type": "markdown",
   "metadata": {},
   "source": [
    "## Download search result images \n",
    "From DuckDuckGo with [this](https://github.com/JorgePoblete/DuckDuckGoImages) script."
   ]
  },
  {
   "cell_type": "code",
   "execution_count": 43,
   "metadata": {},
   "outputs": [],
   "source": [
    "def download_more_images(pose, goal=150):    \n",
    "    # How many to download?\n",
    "    n_already=original_data[original_data[\"name_en\"]==pose].shape[0]\n",
    "    if n_already==0:\n",
    "        raise RuntimeError(f\"{pose} not in original data, typo?\")\n",
    "    n_download=goal-n_already+ 20  # 20 extra for selecton options\n",
    "    \n",
    "    # create output dir\n",
    "    out_dir=extra_dir / f\"{pose}\"\n",
    "    if not out_dir.exists(): makedirs(out_dir)\n",
    "    \n",
    "    # download\n",
    "    print(f\"Downloading {n_download:>3d} images for {pose:<25} to {out_dir}.\")\n",
    "    img_download(pose+\" yoga\", folder=str(out_dir.resolve()), max_urls=n_download, parallel=True)"
   ]
  },
  {
   "cell_type": "code",
   "execution_count": 41,
   "metadata": {},
   "outputs": [
    {
     "name": "stdout",
     "output_type": "stream",
     "text": [
      "Downloading 166 images from DDG to DATA/training data/extra/cat pose.\n"
     ]
    }
   ],
   "source": [
    "download_more_images(\"cat pose\")"
   ]
  },
  {
   "cell_type": "markdown",
   "metadata": {},
   "source": [
    "Downloaded images need manual selection."
   ]
  },
  {
   "cell_type": "markdown",
   "metadata": {},
   "source": [
    "### For all poses"
   ]
  },
  {
   "cell_type": "code",
   "execution_count": 44,
   "metadata": {},
   "outputs": [
    {
     "name": "stdout",
     "output_type": "stream",
     "text": [
      "Downloading 72 images for Half Splits Pose to DATA/training data/extra/Half Splits Pose.\n",
      "Downloading 45 images for Easy Pose to DATA/training data/extra/Easy Pose.\n",
      "Downloading 161 images for Cobra Pose to DATA/training data/extra/Cobra Pose.\n",
      "Downloading 124 images for Downward-facing Dog to DATA/training data/extra/Downward-facing Dog.\n",
      "Downloading 56 images for Low Lunge to DATA/training data/extra/Low Lunge.\n",
      "Downloading 147 images for Child's pose to DATA/training data/extra/Child's pose.\n",
      "Downloading 165 images for cow pose to DATA/training data/extra/cow pose.\n",
      "Downloading 151 images for Happy Baby's pose to DATA/training data/extra/Happy Baby's pose.\n",
      "Downloading 139 images for Standing Forward Bend to DATA/training data/extra/Standing Forward Bend.\n",
      "Downloading 152 images for Upward-Facing Dog to DATA/training data/extra/Upward-Facing Dog.\n",
      "Downloading 149 images for high plank to DATA/training data/extra/high plank.\n"
     ]
    }
   ],
   "source": [
    "for pose in pd.unique(original_data[\"name_en\"]):\n",
    "    if pose in [\"cat pose\", \"Andrea's Cat\"]:\n",
    "        continue\n",
    "    download_more_images(pose)"
   ]
  },
  {
   "cell_type": "markdown",
   "metadata": {},
   "source": [
    "\"Down"
   ]
  },
  {
   "cell_type": "code",
   "execution_count": 45,
   "metadata": {},
   "outputs": [
    {
     "data": {
      "text/plain": [
       "39"
      ]
     },
     "execution_count": 45,
     "metadata": {},
     "output_type": "execute_result"
    }
   ],
   "source": [
    "img_download(\"Uttanasana\", folder=extra_dir / \"utts/\", parallel=True, max_urls=50\n",
    "            )"
   ]
  },
  {
   "cell_type": "code",
   "execution_count": null,
   "metadata": {},
   "outputs": [],
   "source": []
  }
 ],
 "metadata": {
  "kernelspec": {
   "display_name": "Python [conda env:yoga]",
   "language": "python",
   "name": "conda-env-yoga-py"
  },
  "language_info": {
   "codemirror_mode": {
    "name": "ipython",
    "version": 3
   },
   "file_extension": ".py",
   "mimetype": "text/x-python",
   "name": "python",
   "nbconvert_exporter": "python",
   "pygments_lexer": "ipython3",
   "version": "3.9.4"
  }
 },
 "nbformat": 4,
 "nbformat_minor": 4
}
