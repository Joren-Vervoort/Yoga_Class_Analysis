{
 "cells": [
  {
   "cell_type": "code",
   "execution_count": 34,
   "metadata": {},
   "outputs": [],
   "source": [
    "import pandas as pd\n",
    "from keras.models import Sequential\n",
    "from keras.layers import Dense, InputLayer\n",
    "\n",
    "import matplotlib.pyplot as plt\n",
    "import numpy as np\n",
    "# from keras.wrappers.scikit_learn import KerasClassifier\n",
    "from keras.utils import np_utils\n",
    "from sklearn.model_selection import cross_val_score\n",
    "from sklearn.model_selection import KFold\n",
    "from sklearn.preprocessing import LabelEncoder\n",
    "# from sklearn.pipeline import Pipeline\n",
    "from sklearn.model_selection import train_test_split\n"
   ]
  },
  {
   "cell_type": "code",
   "execution_count": 2,
   "metadata": {},
   "outputs": [
    {
     "name": "stdout",
     "output_type": "stream",
     "text": [
      "<class 'pandas.core.frame.DataFrame'>\n",
      "RangeIndex: 1244 entries, 0 to 1243\n",
      "Data columns (total 18 columns):\n",
      " #   Column                                Non-Null Count  Dtype  \n",
      "---  ------                                --------------  -----  \n",
      " 0   name_en                               1244 non-null   object \n",
      " 1   Nose_CenterShoulders_CenterHips       1244 non-null   float64\n",
      " 2   LeftHip_LeftShoulder_LeftElbow        1244 non-null   float64\n",
      " 3   RightHip_RightShoulder_RightElbow     1244 non-null   float64\n",
      " 4   LeftShoulder_LeftElbow_LeftWrist      1244 non-null   float64\n",
      " 5   RightShoulder_RightElbow_RightWrist   1244 non-null   float64\n",
      " 6   LeftShoulder_CenterShoulders_Nose     1244 non-null   float64\n",
      " 7   RightShoulder_CenterShoulders_Nose    1244 non-null   float64\n",
      " 8   LeftIndex1_LeftWrist_LeftElbow        1244 non-null   float64\n",
      " 9   RightIndex1_RightWrist_RightElbow     1244 non-null   float64\n",
      " 10  LeftShoulder_LeftHip_LeftKnee         1244 non-null   float64\n",
      " 11  RightShoulder_RightHip_RightKnee      1244 non-null   float64\n",
      " 12  LeftHip_LeftKnee_LeftAnkle            1244 non-null   float64\n",
      " 13  RightHip_RightKnee_RightAnkle         1244 non-null   float64\n",
      " 14  LeftKnee_LeftAnkle_LeftFootIndex      1244 non-null   float64\n",
      " 15  RightKnee_RightAnkle_RightFootIndex   1244 non-null   float64\n",
      " 16  LeftElbow_CenterShoulders_RightElbow  1244 non-null   float64\n",
      " 17  LeftKnee_CenterHips_RightKnee         1244 non-null   float64\n",
      "dtypes: float64(17), object(1)\n",
      "memory usage: 175.1+ KB\n"
     ]
    }
   ],
   "source": [
    "df=pd.read_csv(\"full_data.csv\")\n",
    "df.info()"
   ]
  },
  {
   "cell_type": "code",
   "execution_count": 3,
   "metadata": {},
   "outputs": [
    {
     "name": "stdout",
     "output_type": "stream",
     "text": [
      "12\n"
     ]
    },
    {
     "data": {
      "text/plain": [
       "((995, 17), (995, 12))"
      ]
     },
     "execution_count": 3,
     "metadata": {},
     "output_type": "execute_result"
    }
   ],
   "source": [
    "X = df.iloc[:, 1:].to_numpy()\n",
    "y = df[\"name_en\"]\n",
    "\n",
    "# encode class values as integers\n",
    "encoder = LabelEncoder()\n",
    "encoder.fit(y)\n",
    "encoded_y = encoder.transform(y)\n",
    "\n",
    "print(len(pd.unique(encoded_y)))\n",
    "# convert integers to dummy variables (i.e. one hot encoded)\n",
    "dummy_y = np_utils.to_categorical(encoded_y)\n",
    "\n",
    "X_train, X_test, y_train, y_test = train_test_split(\n",
    "    X, dummy_y, test_size=0.2, random_state=42, stratify=y\n",
    ")\n",
    "X_train.shape, y_train.shape"
   ]
  },
  {
   "cell_type": "code",
   "execution_count": 4,
   "metadata": {},
   "outputs": [
    {
     "name": "stdout",
     "output_type": "stream",
     "text": [
      "Model: \"sequential\"\n",
      "_________________________________________________________________\n",
      "Layer (type)                 Output Shape              Param #   \n",
      "=================================================================\n",
      "dense (Dense)                (None, 32)                576       \n",
      "_________________________________________________________________\n",
      "dense_1 (Dense)              (None, 12)                396       \n",
      "=================================================================\n",
      "Total params: 972\n",
      "Trainable params: 972\n",
      "Non-trainable params: 0\n",
      "_________________________________________________________________\n"
     ]
    }
   ],
   "source": [
    "# define baseline model\n",
    "def baseline_model():\n",
    "    # create model\n",
    "    model = Sequential()\n",
    "    model.add(InputLayer(input_shape=(X.shape[1])))  # dimensions of X_train\n",
    "    model.add(Dense(32, activation=\"relu\"))\n",
    "    model.add(Dense(12, activation=\"softmax\"))\n",
    "\n",
    "    # compile model\n",
    "    model.compile(\n",
    "        loss=\"categorical_crossentropy\",\n",
    "        optimizer=\"adam\",\n",
    "        metrics=[\"accuracy\"],\n",
    "    )\n",
    "    return model\n",
    "\n",
    "\n",
    "model = baseline_model()\n",
    "model.summary()"
   ]
  },
  {
   "cell_type": "code",
   "execution_count": 5,
   "metadata": {},
   "outputs": [
    {
     "name": "stdout",
     "output_type": "stream",
     "text": [
      "Epoch 1/25\n",
      "199/199 [==============================] - 1s 1ms/step - loss: 39.9248 - accuracy: 0.1411\n",
      "Epoch 2/25\n",
      "199/199 [==============================] - 0s 1ms/step - loss: 4.4709 - accuracy: 0.3337\n",
      "Epoch 3/25\n",
      "199/199 [==============================] - 0s 1ms/step - loss: 2.0687 - accuracy: 0.5046\n",
      "Epoch 4/25\n",
      "199/199 [==============================] - 0s 1ms/step - loss: 1.2523 - accuracy: 0.6328\n",
      "Epoch 5/25\n",
      "199/199 [==============================] - 0s 1ms/step - loss: 1.0882 - accuracy: 0.6999\n",
      "Epoch 6/25\n",
      "199/199 [==============================] - 0s 1ms/step - loss: 0.9096 - accuracy: 0.7093\n",
      "Epoch 7/25\n",
      "199/199 [==============================] - 0s 1ms/step - loss: 0.7992 - accuracy: 0.7210\n",
      "Epoch 8/25\n",
      "199/199 [==============================] - 0s 2ms/step - loss: 0.8732 - accuracy: 0.7288\n",
      "Epoch 9/25\n",
      "199/199 [==============================] - 0s 1ms/step - loss: 0.6838 - accuracy: 0.7545\n",
      "Epoch 10/25\n",
      "199/199 [==============================] - 0s 2ms/step - loss: 0.7070 - accuracy: 0.7735\n",
      "Epoch 11/25\n",
      "199/199 [==============================] - 0s 2ms/step - loss: 0.6220 - accuracy: 0.7857\n",
      "Epoch 12/25\n",
      "199/199 [==============================] - 0s 2ms/step - loss: 0.5274 - accuracy: 0.8153\n",
      "Epoch 13/25\n",
      "199/199 [==============================] - 0s 1ms/step - loss: 0.5746 - accuracy: 0.8037\n",
      "Epoch 14/25\n",
      "199/199 [==============================] - 0s 1ms/step - loss: 0.4706 - accuracy: 0.8438\n",
      "Epoch 15/25\n",
      "199/199 [==============================] - 0s 1ms/step - loss: 0.5409 - accuracy: 0.8123\n",
      "Epoch 16/25\n",
      "199/199 [==============================] - 0s 1ms/step - loss: 0.4137 - accuracy: 0.8551\n",
      "Epoch 17/25\n",
      "199/199 [==============================] - 0s 1ms/step - loss: 0.3724 - accuracy: 0.8548\n",
      "Epoch 18/25\n",
      "199/199 [==============================] - 0s 1ms/step - loss: 0.3800 - accuracy: 0.8529\n",
      "Epoch 19/25\n",
      "199/199 [==============================] - 0s 1ms/step - loss: 0.4230 - accuracy: 0.8605\n",
      "Epoch 20/25\n",
      "199/199 [==============================] - 0s 1ms/step - loss: 0.3966 - accuracy: 0.8453\n",
      "Epoch 21/25\n",
      "199/199 [==============================] - 0s 2ms/step - loss: 0.3918 - accuracy: 0.8679\n",
      "Epoch 22/25\n",
      "199/199 [==============================] - 0s 2ms/step - loss: 0.3511 - accuracy: 0.8774\n",
      "Epoch 23/25\n",
      "199/199 [==============================] - 0s 1ms/step - loss: 0.4011 - accuracy: 0.8760\n",
      "Epoch 24/25\n",
      "199/199 [==============================] - 0s 1ms/step - loss: 0.3384 - accuracy: 0.8843\n",
      "Epoch 25/25\n",
      "199/199 [==============================] - 0s 1ms/step - loss: 0.3021 - accuracy: 0.8878\n"
     ]
    }
   ],
   "source": [
    "history=model.fit(X_train, y_train, batch_size=5, epochs=25)"
   ]
  },
  {
   "cell_type": "code",
   "execution_count": 40,
   "metadata": {},
   "outputs": [
    {
     "name": "stdout",
     "output_type": "stream",
     "text": [
      "('Half Splits Pose', 'Half Splits Pose')\n",
      "('Upward-Facing Dog', 'Upward-Facing Dog')\n",
      "('Easy Pose', 'Easy Pose')\n",
      "('Easy Pose', \"Child's pose\")\n",
      "('Upward-Facing Dog', 'Half Splits Pose')\n",
      "('Upward-Facing Dog', 'Cobra Pose')\n",
      "('cat pose', 'cat pose')\n",
      "('Low Lunge', 'Low Lunge')\n",
      "('Easy Pose', 'Easy Pose')\n",
      "('Downward-facing Dog', 'Downward-facing Dog')\n",
      "('Downward-facing Dog', 'Downward-facing Dog')\n",
      "('cat pose', 'cat pose')\n",
      "('cow pose', 'cow pose')\n",
      "('Upward-Facing Dog', 'Upward-Facing Dog')\n",
      "('Low Lunge', 'Low Lunge')\n",
      "(\"Child's pose\", \"Child's pose\")\n",
      "('Easy Pose', 'Easy Pose')\n",
      "('Half Splits Pose', 'Half Splits Pose')\n",
      "('Low Lunge', \"Happy Baby's pose\")\n",
      "('cat pose', 'cat pose')\n",
      "('cow pose', 'Upward-Facing Dog')\n",
      "('Downward-facing Dog', 'Downward-facing Dog')\n",
      "('high plank', 'high plank')\n",
      "('cat pose', 'Low Lunge')\n",
      "('cow pose', 'cow pose')\n",
      "('Easy Pose', 'Easy Pose')\n",
      "('Downward-facing Dog', 'Downward-facing Dog')\n",
      "(\"Happy Baby's pose\", \"Happy Baby's pose\")\n",
      "(\"Happy Baby's pose\", \"Happy Baby's pose\")\n",
      "('Easy Pose', 'Easy Pose')\n",
      "('Upward-Facing Dog', 'Cobra Pose')\n",
      "('Low Lunge', 'Low Lunge')\n",
      "('Downward-facing Dog', 'Downward-facing Dog')\n",
      "('Half Splits Pose', 'Half Splits Pose')\n",
      "('Easy Pose', 'Easy Pose')\n",
      "('cat pose', \"Child's pose\")\n",
      "('Downward-facing Dog', 'Downward-facing Dog')\n",
      "(\"Happy Baby's pose\", \"Happy Baby's pose\")\n",
      "('Low Lunge', 'Low Lunge')\n",
      "('Cobra Pose', 'Cobra Pose')\n",
      "('high plank', 'high plank')\n",
      "('Downward-facing Dog', 'Downward-facing Dog')\n",
      "('Half Splits Pose', 'Half Splits Pose')\n",
      "('Downward-facing Dog', 'Downward-facing Dog')\n",
      "('cat pose', 'cat pose')\n",
      "('Low Lunge', 'Low Lunge')\n",
      "('Easy Pose', 'Easy Pose')\n",
      "('Half Splits Pose', 'Half Splits Pose')\n",
      "('Upward-Facing Dog', 'Upward-Facing Dog')\n",
      "(\"Child's pose\", \"Child's pose\")\n",
      "('cow pose', 'Half Splits Pose')\n",
      "('Low Lunge', 'Low Lunge')\n",
      "('Half Splits Pose', 'Half Splits Pose')\n",
      "('Half Splits Pose', 'Half Splits Pose')\n",
      "('Downward-facing Dog', 'Downward-facing Dog')\n",
      "('Standing Forward Bend', 'Standing Forward Bend')\n",
      "(\"Happy Baby's pose\", 'Standing Forward Bend')\n",
      "('Upward-Facing Dog', 'Cobra Pose')\n",
      "(\"Child's pose\", \"Child's pose\")\n",
      "('Easy Pose', 'Easy Pose')\n",
      "('Cobra Pose', 'Cobra Pose')\n",
      "('cow pose', 'cow pose')\n",
      "('Cobra Pose', 'Cobra Pose')\n",
      "('cow pose', 'cow pose')\n",
      "('cow pose', 'cow pose')\n",
      "('Half Splits Pose', 'Upward-Facing Dog')\n",
      "('cow pose', 'cow pose')\n",
      "('Easy Pose', 'Easy Pose')\n",
      "('cat pose', 'cat pose')\n",
      "('Half Splits Pose', 'Half Splits Pose')\n",
      "('cat pose', 'cat pose')\n",
      "('Half Splits Pose', 'Half Splits Pose')\n",
      "('Half Splits Pose', 'Half Splits Pose')\n",
      "('Half Splits Pose', 'Half Splits Pose')\n",
      "(\"Happy Baby's pose\", \"Happy Baby's pose\")\n",
      "('high plank', 'high plank')\n",
      "('Downward-facing Dog', 'Downward-facing Dog')\n",
      "('Standing Forward Bend', 'Standing Forward Bend')\n",
      "('cow pose', 'cow pose')\n",
      "('Standing Forward Bend', 'Standing Forward Bend')\n",
      "('Low Lunge', 'Low Lunge')\n",
      "('Upward-Facing Dog', 'Upward-Facing Dog')\n",
      "(\"Child's pose\", \"Child's pose\")\n",
      "('Downward-facing Dog', 'Downward-facing Dog')\n",
      "('Half Splits Pose', 'Upward-Facing Dog')\n",
      "('Half Splits Pose', 'Standing Forward Bend')\n",
      "(\"Child's pose\", \"Child's pose\")\n",
      "('Standing Forward Bend', 'Standing Forward Bend')\n",
      "('cow pose', 'cow pose')\n",
      "('cat pose', 'cat pose')\n",
      "('Upward-Facing Dog', 'Cobra Pose')\n",
      "(\"Happy Baby's pose\", \"Happy Baby's pose\")\n",
      "('Easy Pose', 'Easy Pose')\n",
      "('Downward-facing Dog', 'Downward-facing Dog')\n",
      "('Standing Forward Bend', 'Standing Forward Bend')\n",
      "('Easy Pose', 'Easy Pose')\n",
      "('high plank', 'high plank')\n",
      "('cow pose', 'cow pose')\n",
      "('high plank', 'high plank')\n",
      "('Low Lunge', 'Low Lunge')\n",
      "('Low Lunge', 'Upward-Facing Dog')\n",
      "('Easy Pose', 'Easy Pose')\n",
      "('Low Lunge', 'Low Lunge')\n",
      "('Half Splits Pose', 'Standing Forward Bend')\n",
      "('cow pose', 'cat pose')\n",
      "(\"Child's pose\", \"Child's pose\")\n",
      "('Low Lunge', 'Low Lunge')\n",
      "('Downward-facing Dog', 'Downward-facing Dog')\n",
      "('Easy Pose', 'Easy Pose')\n",
      "('Half Splits Pose', \"Child's pose\")\n",
      "('Cobra Pose', 'Cobra Pose')\n",
      "('Upward-Facing Dog', 'Upward-Facing Dog')\n",
      "('Half Splits Pose', 'Half Splits Pose')\n",
      "('high plank', 'high plank')\n",
      "('Easy Pose', 'Easy Pose')\n",
      "('Upward-Facing Dog', 'Cobra Pose')\n",
      "('cow pose', 'cow pose')\n",
      "(\"Happy Baby's pose\", \"Happy Baby's pose\")\n",
      "('Half Splits Pose', 'Cobra Pose')\n",
      "('Low Lunge', 'Low Lunge')\n",
      "('Low Lunge', 'Low Lunge')\n",
      "('Easy Pose', 'Easy Pose')\n",
      "('cow pose', 'cow pose')\n",
      "('Half Splits Pose', \"Happy Baby's pose\")\n",
      "('Low Lunge', 'Low Lunge')\n",
      "('Easy Pose', 'Easy Pose')\n",
      "('Standing Forward Bend', 'Standing Forward Bend')\n",
      "('Upward-Facing Dog', 'Upward-Facing Dog')\n",
      "('Half Splits Pose', 'Half Splits Pose')\n",
      "(\"Happy Baby's pose\", \"Happy Baby's pose\")\n",
      "('Half Splits Pose', 'Half Splits Pose')\n",
      "('Upward-Facing Dog', 'Cobra Pose')\n",
      "('cow pose', 'cow pose')\n",
      "('Low Lunge', 'Low Lunge')\n",
      "(\"Child's pose\", \"Child's pose\")\n",
      "('Low Lunge', 'Low Lunge')\n",
      "('high plank', 'high plank')\n",
      "('Low Lunge', 'Half Splits Pose')\n",
      "('Downward-facing Dog', 'Downward-facing Dog')\n",
      "('Downward-facing Dog', 'Downward-facing Dog')\n",
      "('Upward-Facing Dog', 'Cobra Pose')\n",
      "('cat pose', 'cat pose')\n",
      "('Upward-Facing Dog', 'Upward-Facing Dog')\n",
      "('Standing Forward Bend', 'Standing Forward Bend')\n",
      "('cow pose', 'cow pose')\n",
      "('Half Splits Pose', \"Happy Baby's pose\")\n",
      "('Upward-Facing Dog', 'Cobra Pose')\n",
      "('Half Splits Pose', 'Half Splits Pose')\n",
      "('cat pose', 'cat pose')\n",
      "('Upward-Facing Dog', 'Upward-Facing Dog')\n",
      "('cat pose', 'cat pose')\n",
      "('Downward-facing Dog', 'Standing Forward Bend')\n",
      "('Half Splits Pose', 'Standing Forward Bend')\n",
      "('Half Splits Pose', 'Half Splits Pose')\n",
      "(\"Child's pose\", \"Child's pose\")\n",
      "('Easy Pose', 'Easy Pose')\n",
      "('Upward-Facing Dog', 'Upward-Facing Dog')\n",
      "('Downward-facing Dog', 'Downward-facing Dog')\n",
      "('Upward-Facing Dog', 'Upward-Facing Dog')\n",
      "('cat pose', 'cow pose')\n",
      "(\"Child's pose\", \"Child's pose\")\n",
      "('cow pose', 'cow pose')\n",
      "('high plank', 'high plank')\n",
      "('Cobra Pose', 'Cobra Pose')\n",
      "(\"Child's pose\", \"Child's pose\")\n",
      "('Low Lunge', 'Low Lunge')\n",
      "('cow pose', 'cow pose')\n",
      "('cow pose', 'cow pose')\n",
      "(\"Child's pose\", \"Child's pose\")\n",
      "('Upward-Facing Dog', 'Upward-Facing Dog')\n",
      "('Easy Pose', 'Easy Pose')\n",
      "(\"Happy Baby's pose\", \"Happy Baby's pose\")\n",
      "('Upward-Facing Dog', 'Upward-Facing Dog')\n",
      "('Low Lunge', 'Low Lunge')\n",
      "('Easy Pose', 'Easy Pose')\n",
      "('Low Lunge', 'Low Lunge')\n",
      "('cow pose', 'cow pose')\n",
      "('Half Splits Pose', 'Half Splits Pose')\n",
      "('Upward-Facing Dog', 'Cobra Pose')\n",
      "('Half Splits Pose', 'Half Splits Pose')\n",
      "('Cobra Pose', 'Upward-Facing Dog')\n",
      "('high plank', 'Cobra Pose')\n",
      "('Cobra Pose', 'Upward-Facing Dog')\n",
      "('Half Splits Pose', 'Half Splits Pose')\n",
      "('cow pose', 'cow pose')\n",
      "('cow pose', 'cow pose')\n",
      "('Downward-facing Dog', 'Downward-facing Dog')\n",
      "('Cobra Pose', 'Upward-Facing Dog')\n",
      "('Cobra Pose', 'Cobra Pose')\n",
      "('Standing Forward Bend', 'Standing Forward Bend')\n",
      "('cow pose', 'cow pose')\n",
      "('high plank', 'high plank')\n",
      "(\"Happy Baby's pose\", \"Happy Baby's pose\")\n",
      "('Downward-facing Dog', 'Downward-facing Dog')\n",
      "('Easy Pose', 'Easy Pose')\n",
      "('cow pose', 'cow pose')\n",
      "('Downward-facing Dog', 'Half Splits Pose')\n",
      "(\"Child's pose\", \"Child's pose\")\n",
      "('Cobra Pose', 'Cobra Pose')\n",
      "('Easy Pose', 'Easy Pose')\n",
      "(\"Child's pose\", \"Child's pose\")\n",
      "('Low Lunge', 'Low Lunge')\n",
      "('Upward-Facing Dog', 'Upward-Facing Dog')\n",
      "('Easy Pose', 'Easy Pose')\n",
      "('Easy Pose', 'Easy Pose')\n",
      "('cat pose', 'cat pose')\n",
      "('Low Lunge', 'Low Lunge')\n",
      "(\"Child's pose\", \"Child's pose\")\n",
      "('Standing Forward Bend', 'Standing Forward Bend')\n",
      "('cow pose', 'cat pose')\n",
      "('Standing Forward Bend', 'Standing Forward Bend')\n",
      "('Low Lunge', 'Low Lunge')\n",
      "('high plank', 'high plank')\n",
      "(\"Happy Baby's pose\", 'Standing Forward Bend')\n",
      "('Downward-facing Dog', 'Low Lunge')\n",
      "('cat pose', 'cat pose')\n",
      "('Low Lunge', 'Low Lunge')\n",
      "(\"Happy Baby's pose\", \"Happy Baby's pose\")\n",
      "('Standing Forward Bend', 'Standing Forward Bend')\n",
      "('Half Splits Pose', 'Half Splits Pose')\n",
      "('high plank', 'high plank')\n",
      "('Standing Forward Bend', 'Standing Forward Bend')\n",
      "('Easy Pose', 'Easy Pose')\n",
      "('Upward-Facing Dog', 'Upward-Facing Dog')\n",
      "('cow pose', 'cow pose')\n",
      "('Standing Forward Bend', 'Standing Forward Bend')\n",
      "('Low Lunge', 'Low Lunge')\n",
      "('Low Lunge', 'Low Lunge')\n",
      "('Half Splits Pose', 'Half Splits Pose')\n",
      "('cat pose', 'cat pose')\n",
      "('Standing Forward Bend', 'Standing Forward Bend')\n",
      "('Easy Pose', 'Easy Pose')\n",
      "('Half Splits Pose', 'Half Splits Pose')\n",
      "('Upward-Facing Dog', 'Cobra Pose')\n",
      "('high plank', 'high plank')\n",
      "('Downward-facing Dog', 'Downward-facing Dog')\n",
      "('Easy Pose', 'Easy Pose')\n",
      "('Downward-facing Dog', 'Downward-facing Dog')\n",
      "('Low Lunge', 'Half Splits Pose')\n",
      "('Low Lunge', 'Low Lunge')\n",
      "('Downward-facing Dog', 'Downward-facing Dog')\n",
      "('cat pose', 'cat pose')\n",
      "('Low Lunge', 'Low Lunge')\n",
      "('Easy Pose', 'Easy Pose')\n",
      "('Standing Forward Bend', 'Standing Forward Bend')\n",
      "(\"Happy Baby's pose\", \"Happy Baby's pose\")\n",
      "(\"Happy Baby's pose\", \"Happy Baby's pose\")\n",
      "(\"Happy Baby's pose\", \"Happy Baby's pose\")\n",
      "('cow pose', 'cow pose')\n"
     ]
    },
    {
     "name": "stderr",
     "output_type": "stream",
     "text": [
      "/home/bram/miniconda3/envs/yoga/lib/python3.9/site-packages/tensorflow/python/keras/engine/sequential.py:450: UserWarning: `model.predict_classes()` is deprecated and will be removed after 2021-01-01. Please use instead:* `np.argmax(model.predict(x), axis=-1)`,   if your model does multi-class classification   (e.g. if it uses a `softmax` last-layer activation).* `(model.predict(x) > 0.5).astype(\"int32\")`,   if your model does binary classification   (e.g. if it uses a `sigmoid` last-layer activation).\n",
      "  warnings.warn('`model.predict_classes()` is deprecated and '\n"
     ]
    }
   ],
   "source": [
    "predictions = model.predict_classes(X_test)\n",
    "predictions_decoded = encoder.inverse_transform(predictions)\n",
    "\n",
    "y_test_decoded=encoder.inverse_transform([np.where(x==1)[0][0] for x in y_test])\n",
    "\n",
    "for x in zip(predictions_decoded, y_test_decoded): \n",
    "    print (x)"
   ]
  },
  {
   "cell_type": "code",
   "execution_count": 17,
   "metadata": {},
   "outputs": [
    {
     "data": {
      "text/plain": [
       "[<matplotlib.lines.Line2D at 0x7fe7407185b0>]"
      ]
     },
     "execution_count": 17,
     "metadata": {},
     "output_type": "execute_result"
    },
    {
     "data": {
      "image/png": "[encoded data removed]",
      "text/plain": [
       "<Figure size 432x288 with 1 Axes>"
      ]
     },
     "metadata": {
      "needs_background": "light"
     },
     "output_type": "display_data"
    }
   ],
   "source": [
    "plt.plot(history.history[\"accuracy\"])\n"
   ]
  },
  {
   "cell_type": "code",
   "execution_count": 18,
   "metadata": {},
   "outputs": [
    {
     "data": {
      "text/plain": [
       "[<matplotlib.lines.Line2D at 0x7fe7409e7a30>]"
      ]
     },
     "execution_count": 18,
     "metadata": {},
     "output_type": "execute_result"
    },
    {
     "data": {
      "image/png": "[encoded data removed]",
      "text/plain": [
       "<Figure size 432x288 with 1 Axes>"
      ]
     },
     "metadata": {
      "needs_background": "light"
     },
     "output_type": "display_data"
    }
   ],
   "source": [
    "plt.plot(history.history[\"loss\"])"
   ]
  },
  {
   "cell_type": "code",
   "execution_count": 41,
   "metadata": {},
   "outputs": [
    {
     "name": "stdout",
     "output_type": "stream",
     "text": [
      "INFO:tensorflow:Assets written to: NN_model/assets\n"
     ]
    }
   ],
   "source": [
    "model.save('NN_model')"
   ]
  },
  {
   "cell_type": "code",
   "execution_count": null,
   "metadata": {},
   "outputs": [],
   "source": []
  }
 ],
 "metadata": {
  "kernelspec": {
   "display_name": "Python [conda env:yoga]",
   "language": "python",
   "name": "conda-env-yoga-py"
  },
  "language_info": {
   "codemirror_mode": {
    "name": "ipython",
    "version": 3
   },
   "file_extension": ".py",
   "mimetype": "text/x-python",
   "name": "python",
   "nbconvert_exporter": "python",
   "pygments_lexer": "ipython3",
   "version": "3.9.4"
  }
 },
 "nbformat": 4,
 "nbformat_minor": 5
}
